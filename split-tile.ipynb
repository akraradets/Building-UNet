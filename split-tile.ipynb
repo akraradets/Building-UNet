{
 "cells": [
  {
   "cell_type": "code",
   "execution_count": 1,
   "metadata": {},
   "outputs": [],
   "source": [
    "from PIL import Image\n",
    "from glob import glob\n",
    "import numpy as np"
   ]
  },
  {
   "cell_type": "code",
   "execution_count": 6,
   "metadata": {},
   "outputs": [],
   "source": [
    "path = \"./raw_jpg/\"\n",
    "folders = [\"imgs\",\"masks\"]\n",
    "size = 250\n",
    "for folder in folders:\n",
    "    files = glob(f\"{path}{folder}/*\")\n",
    "    for file in files:\n",
    "        name = file.split(\"/\")[3]\n",
    "        img = Image.open(file)\n",
    "        # print(img.size)\n",
    "        h,w = img.size\n",
    "        for x in range(0,h,size):\n",
    "            for y in range(0,w,size):\n",
    "                box = (x,y,x+size-1,y+size-1)\n",
    "                img.crop( box=box ).save(f\"./data/{folder}/{name}_{x}_{y}.jpg\")"
   ]
  },
  {
   "cell_type": "code",
   "execution_count": 32,
   "metadata": {},
   "outputs": [],
   "source": [
    "scale = 1 \n",
    "is_mask = True\n",
    "\n",
    "pil_img = Image.open(\"raw_jpg/masks/513647232_jpg.jpg\")\n",
    "w, h = pil_img.size\n",
    "newW, newH = int(scale * w), int(scale * h)\n",
    "assert newW > 0 and newH > 0, 'Scale is too small, resized images would have no pixel'\n",
    "pil_img = pil_img.resize((newW, newH), resample=Image.NEAREST if is_mask else Image.BICUBIC)\n",
    "img_ndarray = np.asarray(pil_img)"
   ]
  },
  {
   "cell_type": "code",
   "execution_count": 33,
   "metadata": {},
   "outputs": [],
   "source": [
    "img_ndarray[img_ndarray > 50] = 255\n",
    "# img_ndarray[img_ndarray == 255]"
   ]
  },
  {
   "cell_type": "code",
   "execution_count": 37,
   "metadata": {},
   "outputs": [
    {
     "data": {
      "text/plain": [
       "(4000, 4000)"
      ]
     },
     "execution_count": 37,
     "metadata": {},
     "output_type": "execute_result"
    }
   ],
   "source": [
    "img_ndarray.shape"
   ]
  }
 ],
 "metadata": {
  "interpreter": {
   "hash": "1c5680a66f440b550e936ce9b725c7759d9584e94a4aac0f1bd3bd2c2284e0a4"
  },
  "kernelspec": {
   "display_name": "Python 3.8.10 64-bit ('.venv': pipenv)",
   "language": "python",
   "name": "python3"
  },
  "language_info": {
   "codemirror_mode": {
    "name": "ipython",
    "version": 3
   },
   "file_extension": ".py",
   "mimetype": "text/x-python",
   "name": "python",
   "nbconvert_exporter": "python",
   "pygments_lexer": "ipython3",
   "version": "3.8.10"
  },
  "orig_nbformat": 4
 },
 "nbformat": 4,
 "nbformat_minor": 2
}
